{
  "nbformat": 4,
  "nbformat_minor": 0,
  "metadata": {
    "colab": {
      "name": "LOGISTIC REGRETION.ipynb",
      "provenance": []
    },
    "kernelspec": {
      "name": "python3",
      "display_name": "Python 3"
    },
    "language_info": {
      "name": "python"
    }
  },
  "cells": [
    {
      "cell_type": "markdown",
      "source": [
        "TRAING A BINARY CALSSIFIER    formulas >>>>>in  memo note "
      ],
      "metadata": {
        "id": "VVE4nCCzM5ri"
      }
    },
    {
      "cell_type": "code",
      "source": [
        "from sklearn.linear_model import LogisticRegression\n",
        "from sklearn import datasets\n",
        "from sklearn.preprocessing import StandardScaler"
      ],
      "metadata": {
        "id": "nJ2xuxIXMxuy"
      },
      "execution_count": 1,
      "outputs": []
    },
    {
      "cell_type": "markdown",
      "source": [
        ""
      ],
      "metadata": {
        "id": "VDkwx07hMxOJ"
      }
    },
    {
      "cell_type": "code",
      "execution_count": 2,
      "metadata": {
        "id": "aIegwRQYJIx-"
      },
      "outputs": [],
      "source": [
        "iris = datasets.load_iris()\n",
        "features=iris.data[:100,:]\n",
        "target=iris.target[:100]"
      ]
    },
    {
      "cell_type": "markdown",
      "source": [
        ""
      ],
      "metadata": {
        "id": "chTjZ85rMwNH"
      }
    },
    {
      "cell_type": "code",
      "source": [
        "scaler= StandardScaler()\n",
        "features_standerdized=scaler.fit_transform(features) "
      ],
      "metadata": {
        "id": "Xq4eYeQiJP0B"
      },
      "execution_count": 3,
      "outputs": []
    },
    {
      "cell_type": "code",
      "source": [
        "logistic_regression=LogisticRegression(random_state=0)"
      ],
      "metadata": {
        "id": "VkGYeo5mJP9J"
      },
      "execution_count": 4,
      "outputs": []
    },
    {
      "cell_type": "code",
      "source": [
        "model=logistic_regression.fit(features_standerdized,target)"
      ],
      "metadata": {
        "id": "oiPq08dNJQFa"
      },
      "execution_count": 5,
      "outputs": []
    },
    {
      "cell_type": "code",
      "source": [
        "new_observation=[[.5,.5,.5,.5]]"
      ],
      "metadata": {
        "id": "t_cKwE-VJQUd"
      },
      "execution_count": 6,
      "outputs": []
    },
    {
      "cell_type": "code",
      "source": [
        "model.predict(new_observation)"
      ],
      "metadata": {
        "colab": {
          "base_uri": "https://localhost:8080/"
        },
        "id": "7M_VqSPpPQvs",
        "outputId": "2d030bcb-84ac-45b8-edcb-7c2ea7f948bb"
      },
      "execution_count": 7,
      "outputs": [
        {
          "output_type": "execute_result",
          "data": {
            "text/plain": [
              "array([1])"
            ]
          },
          "metadata": {},
          "execution_count": 7
        }
      ]
    },
    {
      "cell_type": "code",
      "source": [
        "model.predict_proba(new_observation)"
      ],
      "metadata": {
        "colab": {
          "base_uri": "https://localhost:8080/"
        },
        "id": "H-c2bcTsPQmd",
        "outputId": "99e6a182-85d2-4659-9f83-831530bc7055"
      },
      "execution_count": 8,
      "outputs": [
        {
          "output_type": "execute_result",
          "data": {
            "text/plain": [
              "array([[0.17738424, 0.82261576]])"
            ]
          },
          "metadata": {},
          "execution_count": 8
        }
      ]
    },
    {
      "cell_type": "markdown",
      "source": [
        "                  TRAINING MULTICLASS CALSSIFIER formula in>>> memo note  "
      ],
      "metadata": {
        "id": "XdJqmhovPwAV"
      }
    },
    {
      "cell_type": "code",
      "source": [
        "from sklearn.linear_model import LogisticRegression\n",
        "from sklearn import datasets\n",
        "from sklearn.preprocessing import StandardScaler"
      ],
      "metadata": {
        "id": "DC2l77GvPQaN"
      },
      "execution_count": 9,
      "outputs": []
    },
    {
      "cell_type": "code",
      "source": [
        "iris=datasets.load_iris()\n",
        "features=iris.data\n",
        "target=iris.target"
      ],
      "metadata": {
        "id": "MqhDHNo4JQe2"
      },
      "execution_count": 10,
      "outputs": []
    },
    {
      "cell_type": "code",
      "source": [
        "scaler=StandardScaler()\n",
        "features_standerdized=scaler.fit_transform(features)\n"
      ],
      "metadata": {
        "id": "GwUmhnbVmqAr"
      },
      "execution_count": 11,
      "outputs": []
    },
    {
      "cell_type": "code",
      "source": [
        "logistic_regression=LogisticRegression(random_state=0,multi_class='multinomial')\n"
      ],
      "metadata": {
        "id": "je0xIm6lmp5K"
      },
      "execution_count": 12,
      "outputs": []
    },
    {
      "cell_type": "code",
      "source": [
        "model=logistic_regression.fit(features_standerdized,target)"
      ],
      "metadata": {
        "id": "a2kpyRzomps0"
      },
      "execution_count": 13,
      "outputs": []
    },
    {
      "cell_type": "code",
      "source": [
        "new_observation=[[.5,.5,.5,.5]]"
      ],
      "metadata": {
        "id": "P603LtG8mpjj"
      },
      "execution_count": 14,
      "outputs": []
    },
    {
      "cell_type": "code",
      "source": [
        "model.predict(new_observation)"
      ],
      "metadata": {
        "colab": {
          "base_uri": "https://localhost:8080/"
        },
        "id": "zQk5Il0RJQmy",
        "outputId": "76d37b81-6fa9-4776-cbe4-69439f0bd9fa"
      },
      "execution_count": 15,
      "outputs": [
        {
          "output_type": "execute_result",
          "data": {
            "text/plain": [
              "array([1])"
            ]
          },
          "metadata": {},
          "execution_count": 15
        }
      ]
    },
    {
      "cell_type": "markdown",
      "source": [
        "Explanation - (MLR)\n",
        "image.png"
      ],
      "metadata": {
        "id": "RnBhoUEsoaDF"
      }
    },
    {
      "cell_type": "code",
      "source": [
        "model.predict_proba(new_observation)"
      ],
      "metadata": {
        "colab": {
          "base_uri": "https://localhost:8080/"
        },
        "id": "wgOmvZFooA5K",
        "outputId": "079e5350-1209-4068-fe0d-115df974fcc0"
      },
      "execution_count": 16,
      "outputs": [
        {
          "output_type": "execute_result",
          "data": {
            "text/plain": [
              "array([[0.01982185, 0.74491886, 0.23525928]])"
            ]
          },
          "metadata": {},
          "execution_count": 16
        }
      ]
    },
    {
      "cell_type": "code",
      "source": [
        "from sklearn.linear_model import LogisticRegressionCV\n",
        "from sklearn import datasets\n",
        "from sklearn.preprocessing import StandardScaler"
      ],
      "metadata": {
        "id": "PC1LtXNOoAwd"
      },
      "execution_count": 17,
      "outputs": []
    },
    {
      "cell_type": "code",
      "source": [
        "iris= datasets.load_iris()\n",
        "features=iris.data\n",
        "target=iris.target\n"
      ],
      "metadata": {
        "id": "YO0E4XbTwsPT"
      },
      "execution_count": 18,
      "outputs": []
    },
    {
      "cell_type": "code",
      "source": [
        "scaler=StandardScaler()\n",
        "features_standardized=scaler.fit_transform(features)"
      ],
      "metadata": {
        "id": "8bHj27fAwsJR"
      },
      "execution_count": 25,
      "outputs": []
    },
    {
      "cell_type": "code",
      "source": [
        "logistic_regression=LogisticRegressionCV(penalty='l2',Cs=10, random_state=0, n_jobs=-1)"
      ],
      "metadata": {
        "id": "A5FWVmyWwr9Q"
      },
      "execution_count": 31,
      "outputs": []
    },
    {
      "cell_type": "code",
      "source": [
        "model = logistic_regression.fit(features_standardized,target)"
      ],
      "metadata": {
        "id": "hzDno1Vuwryb"
      },
      "execution_count": 32,
      "outputs": []
    },
    {
      "cell_type": "code",
      "source": [
        "model"
      ],
      "metadata": {
        "id": "cc4g_p4zoAlf",
        "colab": {
          "base_uri": "https://localhost:8080/"
        },
        "outputId": "5e13d0b7-adec-42e9-d817-30fddeee955f"
      },
      "execution_count": 33,
      "outputs": [
        {
          "output_type": "execute_result",
          "data": {
            "text/plain": [
              "LogisticRegressionCV(n_jobs=-1, random_state=0)"
            ]
          },
          "metadata": {},
          "execution_count": 33
        }
      ]
    },
    {
      "cell_type": "markdown",
      "source": [
        "                   TRAINNG A CLASSIFIER ON VERY LARDE DATA\n",
        "                   "
      ],
      "metadata": {
        "id": "lVWFwr0P2m8P"
      }
    },
    {
      "cell_type": "code",
      "source": [
        "\n",
        "from sklearn.linear_model import LogisticRegression\n",
        "from sklearn import datasets\n",
        "from sklearn.preprocessing import StandardScaler"
      ],
      "metadata": {
        "id": "un4BLsoKoAW1"
      },
      "execution_count": 35,
      "outputs": []
    },
    {
      "cell_type": "code",
      "source": [
        "iris=datasets.load_iris()\n",
        "features=iris.data\n",
        "target=iris.target"
      ],
      "metadata": {
        "id": "xlh-2OY0oANq"
      },
      "execution_count": 37,
      "outputs": []
    },
    {
      "cell_type": "code",
      "source": [
        "scaler=StandardScaler()\n",
        "features_standardized=scaler.fit_transform(features)"
      ],
      "metadata": {
        "id": "57TAFzhZ0fh4"
      },
      "execution_count": 38,
      "outputs": []
    },
    {
      "cell_type": "code",
      "source": [
        "logistic_regression.fit(features_standerdized,target)"
      ],
      "metadata": {
        "colab": {
          "base_uri": "https://localhost:8080/"
        },
        "id": "eyHXiElg0fS4",
        "outputId": "42af3d13-e1bb-4f40-c56b-fa325eb9ded1"
      },
      "execution_count": 40,
      "outputs": [
        {
          "output_type": "execute_result",
          "data": {
            "text/plain": [
              "LogisticRegressionCV(n_jobs=-1, random_state=0)"
            ]
          },
          "metadata": {},
          "execution_count": 40
        }
      ]
    },
    {
      "cell_type": "code",
      "source": [
        "model=logistic_regression.fit(features,target)"
      ],
      "metadata": {
        "id": "J8g6ilFt0fKB"
      },
      "execution_count": 41,
      "outputs": []
    },
    {
      "cell_type": "code",
      "source": [
        ""
      ],
      "metadata": {
        "id": "H_1tQRI70fDH"
      },
      "execution_count": null,
      "outputs": []
    }
  ]
}