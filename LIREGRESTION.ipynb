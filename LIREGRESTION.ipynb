{
  "nbformat": 4,
  "nbformat_minor": 0,
  "metadata": {
    "colab": {
      "name": "LIREGRESTION.ipynb",
      "provenance": [],
      "collapsed_sections": []
    },
    "kernelspec": {
      "name": "python3",
      "display_name": "Python 3"
    },
    "language_info": {
      "name": "python"
    }
  },
  "cells": [
    {
      "cell_type": "markdown",
      "source": [
        "                      linear regression fitting a **line**"
      ],
      "metadata": {
        "id": "3WnHTlbUmqDv"
      }
    },
    {
      "cell_type": "code",
      "execution_count": null,
      "metadata": {
        "id": "0KfXy09kOpvq"
      },
      "outputs": [],
      "source": [
        "from sklearn.linear_model import LinearRegression\n",
        "from sklearn.datasets import fetch_california_housing\n",
        "import pandas as pd\n",
        "import numpy as np"
      ]
    },
    {
      "cell_type": "code",
      "source": [
        "#data_url = \"http://lib.stat.cmu.edu/datasets/boston\"\n",
        "#raw_df = pd.read_csv(data_url, sep=\"\\s+\", skiprows=22, header=None)\n",
        "#data = np.hstack([raw_df.values[::2, :], raw_df.values[1::2, :2]])\n",
        "#target = raw_df.values[1::2, 2]\n"
      ],
      "metadata": {
        "id": "oKltwkHsPx8w"
      },
      "execution_count": null,
      "outputs": []
    },
    {
      "cell_type": "code",
      "source": [
        "housing = fetch_california_housing()\n",
        "features = housing.data[:,0:2]\n",
        "target=housing.target"
      ],
      "metadata": {
        "id": "CdIGW91xPQua"
      },
      "execution_count": null,
      "outputs": []
    },
    {
      "cell_type": "code",
      "source": [
        "regression=LinearRegression()\n",
        "regression"
      ],
      "metadata": {
        "colab": {
          "base_uri": "https://localhost:8080/"
        },
        "id": "3n3W9xOMPQ6h",
        "outputId": "4a6aaf13-1740-4c16-83fd-3b9839a7cc76"
      },
      "execution_count": null,
      "outputs": [
        {
          "output_type": "execute_result",
          "data": {
            "text/plain": [
              "LinearRegression()"
            ]
          },
          "metadata": {},
          "execution_count": 4
        }
      ]
    },
    {
      "cell_type": "code",
      "source": [
        "model=regression.fit(features,target)\n",
        "model"
      ],
      "metadata": {
        "colab": {
          "base_uri": "https://localhost:8080/"
        },
        "id": "vv-hgNg-PRHl",
        "outputId": "42577546-f57f-4dc4-ab35-72b4121e377a"
      },
      "execution_count": null,
      "outputs": [
        {
          "output_type": "execute_result",
          "data": {
            "text/plain": [
              "LinearRegression()"
            ]
          },
          "metadata": {},
          "execution_count": 5
        }
      ]
    },
    {
      "cell_type": "code",
      "source": [
        "model.intercept_ #And β1 and β2 are shown using coef_"
      ],
      "metadata": {
        "colab": {
          "base_uri": "https://localhost:8080/"
        },
        "id": "Z9DaFPskPRPu",
        "outputId": "8bb030a8-be85-43fb-f11d-93e93623e483"
      },
      "execution_count": null,
      "outputs": [
        {
          "output_type": "execute_result",
          "data": {
            "text/plain": [
              "-0.1018903275908265"
            ]
          },
          "metadata": {},
          "execution_count": 6
        }
      ]
    },
    {
      "cell_type": "code",
      "source": [
        "target[0]*1000"
      ],
      "metadata": {
        "colab": {
          "base_uri": "https://localhost:8080/"
        },
        "id": "NxWaoexrOshS",
        "outputId": "debf42ec-bfd6-4e4d-fbaf-583087fd9305"
      },
      "execution_count": null,
      "outputs": [
        {
          "output_type": "execute_result",
          "data": {
            "text/plain": [
              "4526.0"
            ]
          },
          "metadata": {},
          "execution_count": 7
        }
      ]
    },
    {
      "cell_type": "code",
      "source": [
        "model.predict(features)[0]*1000"
      ],
      "metadata": {
        "colab": {
          "base_uri": "https://localhost:8080/"
        },
        "id": "Du3vk_YPOsqF",
        "outputId": "84b5de03-0192-4c04-f032-10b6355bafac"
      },
      "execution_count": null,
      "outputs": [
        {
          "output_type": "execute_result",
          "data": {
            "text/plain": [
              "4207.126263821179"
            ]
          },
          "metadata": {},
          "execution_count": 8
        }
      ]
    },
    {
      "cell_type": "code",
      "source": [
        "model.coef_ "
      ],
      "metadata": {
        "colab": {
          "base_uri": "https://localhost:8080/"
        },
        "id": "27PXSmTMOsz6",
        "outputId": "de35f7a1-3a71-4f7b-f882-6614dff9759e"
      },
      "execution_count": null,
      "outputs": [
        {
          "output_type": "execute_result",
          "data": {
            "text/plain": [
              "array([0.43169191, 0.01744134])"
            ]
          },
          "metadata": {},
          "execution_count": 9
        }
      ]
    },
    {
      "cell_type": "markdown",
      "source": [
        "              handeling interactive effects\n",
        "\n",
        "              using polynomial features *****"
      ],
      "metadata": {
        "id": "reXvAUbvm50C"
      }
    },
    {
      "cell_type": "code",
      "source": [
        "from sklearn.preprocessing import PolynomialFeatures"
      ],
      "metadata": {
        "id": "0z6owfg5Os-J"
      },
      "execution_count": null,
      "outputs": []
    },
    {
      "cell_type": "code",
      "source": [
        "housing = fetch_california_housing()\n",
        "features=housing.data[:,0:2]\n",
        "target=housing.target"
      ],
      "metadata": {
        "id": "_ltm8oxrgkpK"
      },
      "execution_count": null,
      "outputs": []
    },
    {
      "cell_type": "code",
      "source": [
        "interaction=PolynomialFeatures(degree=3,include_bias=False, interaction_only=True)\n",
        "features_interaction=interaction.fit_transform(features)\n"
      ],
      "metadata": {
        "id": "rTTExeLYgkk4"
      },
      "execution_count": null,
      "outputs": []
    },
    {
      "cell_type": "code",
      "source": [
        "regression=LinearRegression()\n"
      ],
      "metadata": {
        "id": "OzXCaHIvgkeo"
      },
      "execution_count": null,
      "outputs": []
    },
    {
      "cell_type": "code",
      "source": [
        "model=regression.fit(features_interaction,target)"
      ],
      "metadata": {
        "id": "Ah_i_SjPgkW6"
      },
      "execution_count": null,
      "outputs": []
    },
    {
      "cell_type": "markdown",
      "source": [
        "   FORMULA"
      ],
      "metadata": {
        "id": "Qz0K7ctQnPx4"
      }
    },
    {
      "cell_type": "code",
      "source": [
        "features_interaction[0]"
      ],
      "metadata": {
        "colab": {
          "base_uri": "https://localhost:8080/"
        },
        "id": "ojqnQjlolyaF",
        "outputId": "152cfbd1-e4e4-4711-ad07-41a40c5d5487"
      },
      "execution_count": null,
      "outputs": [
        {
          "output_type": "execute_result",
          "data": {
            "text/plain": [
              "array([  8.3252,  41.    , 341.3332])"
            ]
          },
          "metadata": {},
          "execution_count": 15
        }
      ]
    },
    {
      "cell_type": "code",
      "source": [
        "features[0]"
      ],
      "metadata": {
        "colab": {
          "base_uri": "https://localhost:8080/"
        },
        "id": "fC3IjL4OlyVf",
        "outputId": "db1db910-d967-4abf-9ce4-996bf96fe2d4"
      },
      "execution_count": null,
      "outputs": [
        {
          "output_type": "execute_result",
          "data": {
            "text/plain": [
              "array([ 8.3252, 41.    ])"
            ]
          },
          "metadata": {},
          "execution_count": 16
        }
      ]
    },
    {
      "cell_type": "code",
      "source": [
        "interaction_term=np.multiply(features[:,0],features[:,1])"
      ],
      "metadata": {
        "id": "v6wjaJ7plyQd"
      },
      "execution_count": null,
      "outputs": []
    },
    {
      "cell_type": "code",
      "source": [
        "interaction_term[0]"
      ],
      "metadata": {
        "colab": {
          "base_uri": "https://localhost:8080/"
        },
        "id": "3PlR2Qe5lyKB",
        "outputId": "f60356e4-04aa-44e7-9431-34c494911062"
      },
      "execution_count": null,
      "outputs": [
        {
          "output_type": "execute_result",
          "data": {
            "text/plain": [
              "341.33320000000003"
            ]
          },
          "metadata": {},
          "execution_count": 18
        }
      ]
    },
    {
      "cell_type": "markdown",
      "source": [
        "        FITTING A NON LINEAR REALATIONSHOIP"
      ],
      "metadata": {
        "id": "TZuI7d3PmoKL"
      }
    },
    {
      "cell_type": "code",
      "source": [
        "from sklearn.preprocessing import PolynomialFeatures"
      ],
      "metadata": {
        "id": "B2YM3M7ZpDwR"
      },
      "execution_count": null,
      "outputs": []
    },
    {
      "cell_type": "code",
      "source": [
        "housing = fetch_california_housing()\n",
        "features=housing.data[:,0:2]\n",
        "target=housing.target"
      ],
      "metadata": {
        "id": "vCsYsqxNlyCd"
      },
      "execution_count": null,
      "outputs": []
    },
    {
      "cell_type": "code",
      "source": [
        "polynomial=PolynomialFeatures(degree=3,include_bias=False)\n",
        "features_polynomial=polynomial.fit_transform(features)\n"
      ],
      "metadata": {
        "id": "TH7Ou5Yolx8l"
      },
      "execution_count": null,
      "outputs": []
    },
    {
      "cell_type": "code",
      "source": [
        "regression=LinearRegression()"
      ],
      "metadata": {
        "id": "u5xnjylDnbJi"
      },
      "execution_count": null,
      "outputs": []
    },
    {
      "cell_type": "code",
      "source": [
        "model=regression.fit(features_polynomial, target)"
      ],
      "metadata": {
        "id": "wT5FnksVpjfL"
      },
      "execution_count": null,
      "outputs": []
    },
    {
      "cell_type": "code",
      "source": [
        "features[0]"
      ],
      "metadata": {
        "colab": {
          "base_uri": "https://localhost:8080/"
        },
        "id": "AXzaFUErpjaV",
        "outputId": "c49bc095-3f40-451e-9518-744c38ae97b9"
      },
      "execution_count": null,
      "outputs": [
        {
          "output_type": "execute_result",
          "data": {
            "text/plain": [
              "array([ 8.3252, 41.    ])"
            ]
          },
          "metadata": {},
          "execution_count": 24
        }
      ]
    },
    {
      "cell_type": "code",
      "source": [
        "features[0]**2"
      ],
      "metadata": {
        "colab": {
          "base_uri": "https://localhost:8080/"
        },
        "id": "mqB8tvfNpjV2",
        "outputId": "1a9322fc-fd1a-4a15-bd67-f46f4a67c0c1"
      },
      "execution_count": null,
      "outputs": [
        {
          "output_type": "execute_result",
          "data": {
            "text/plain": [
              "array([  69.30895504, 1681.        ])"
            ]
          },
          "metadata": {},
          "execution_count": 25
        }
      ]
    },
    {
      "cell_type": "code",
      "source": [
        "features[0]**3"
      ],
      "metadata": {
        "colab": {
          "base_uri": "https://localhost:8080/"
        },
        "id": "OZLUqNuzqGie",
        "outputId": "c60f295c-4114-497d-8d1c-b82e2dde702a"
      },
      "execution_count": null,
      "outputs": [
        {
          "output_type": "execute_result",
          "data": {
            "text/plain": [
              "array([  577.0109125, 68921.       ])"
            ]
          },
          "metadata": {},
          "execution_count": 26
        }
      ]
    },
    {
      "cell_type": "code",
      "source": [
        "features_polynomial[0]"
      ],
      "metadata": {
        "colab": {
          "base_uri": "https://localhost:8080/"
        },
        "id": "Ff798YFnpjR1",
        "outputId": "08020d69-5eaf-47ac-992b-8c0bd28adde9"
      },
      "execution_count": null,
      "outputs": [
        {
          "output_type": "execute_result",
          "data": {
            "text/plain": [
              "array([8.32520000e+00, 4.10000000e+01, 6.93089550e+01, 3.41333200e+02,\n",
              "       1.68100000e+03, 5.77010912e+02, 2.84166716e+03, 1.39946612e+04,\n",
              "       6.89210000e+04])"
            ]
          },
          "metadata": {},
          "execution_count": 27
        }
      ]
    },
    {
      "cell_type": "markdown",
      "source": [
        "                REDUSING variance through regulariation "
      ],
      "metadata": {
        "id": "xf8hrYzsWGyE"
      }
    },
    {
      "cell_type": "code",
      "source": [
        "from sklearn.linear_model import Ridge\n",
        "from sklearn.preprocessing import StandardScaler\n"
      ],
      "metadata": {
        "id": "C_FEfSBPpzm0"
      },
      "execution_count": null,
      "outputs": []
    },
    {
      "cell_type": "code",
      "source": [
        ""
      ],
      "metadata": {
        "id": "Abge-l99pzgO"
      },
      "execution_count": null,
      "outputs": []
    },
    {
      "cell_type": "code",
      "source": [
        "housing = fetch_california_housing()\n",
        "features=housing.data\n",
        "target=housing.target"
      ],
      "metadata": {
        "id": "r-kFRYtOWunm"
      },
      "execution_count": null,
      "outputs": []
    },
    {
      "cell_type": "code",
      "source": [
        "scaler=StandardScaler()\n",
        "features_standardized = scaler.fit_transform(features)"
      ],
      "metadata": {
        "id": "T-8xOkSMpzav"
      },
      "execution_count": null,
      "outputs": []
    },
    {
      "cell_type": "code",
      "source": [
        "regression= Ridge(alpha=0.5)"
      ],
      "metadata": {
        "id": "EI_w_0z9pzV4"
      },
      "execution_count": null,
      "outputs": []
    },
    {
      "cell_type": "code",
      "source": [
        "model=regression.fit(features_standardized,target)"
      ],
      "metadata": {
        "id": "mj89gveGpjJv"
      },
      "execution_count": null,
      "outputs": []
    },
    {
      "cell_type": "code",
      "source": [
        "model"
      ],
      "metadata": {
        "colab": {
          "base_uri": "https://localhost:8080/"
        },
        "id": "15Vw28sGqaW3",
        "outputId": "ab972566-7f90-4f5a-f209-c1da4302c746"
      },
      "execution_count": null,
      "outputs": [
        {
          "output_type": "execute_result",
          "data": {
            "text/plain": [
              "Ridge(alpha=0.5)"
            ]
          },
          "metadata": {},
          "execution_count": 36
        }
      ]
    },
    {
      "cell_type": "code",
      "source": [
        "from sklearn.linear_model import RidgeCV"
      ],
      "metadata": {
        "id": "Z8PtQDlcX5-z"
      },
      "execution_count": null,
      "outputs": []
    },
    {
      "cell_type": "code",
      "source": [
        ""
      ],
      "metadata": {
        "id": "rJ8cAFZIYu39"
      },
      "execution_count": null,
      "outputs": []
    },
    {
      "cell_type": "code",
      "source": [
        "regr_cv=RidgeCV(alphas=[0.1,1.0,10.0])"
      ],
      "metadata": {
        "id": "YrZLcElUYOxe"
      },
      "execution_count": null,
      "outputs": []
    },
    {
      "cell_type": "code",
      "source": [
        "model_cv=regr_cv.fit(features_standardized,target)"
      ],
      "metadata": {
        "id": "9oOkb0iLY3xF"
      },
      "execution_count": null,
      "outputs": []
    },
    {
      "cell_type": "code",
      "source": [
        "model_cv.coef_"
      ],
      "metadata": {
        "colab": {
          "base_uri": "https://localhost:8080/"
        },
        "id": "WQ6eEeK-X52g",
        "outputId": "0f2aaa05-d4a8-40dc-8e37-6ed273861353"
      },
      "execution_count": null,
      "outputs": [
        {
          "output_type": "execute_result",
          "data": {
            "text/plain": [
              "array([ 0.8293461 ,  0.11939823, -0.26422311,  0.30398067, -0.00427544,\n",
              "       -0.03936068, -0.8937389 , -0.86433656])"
            ]
          },
          "metadata": {},
          "execution_count": 47
        }
      ]
    },
    {
      "cell_type": "code",
      "source": [
        "model_cv.alpha_"
      ],
      "metadata": {
        "colab": {
          "base_uri": "https://localhost:8080/"
        },
        "id": "KIPpsiFFX5su",
        "outputId": "d3d54316-51dd-4f99-d05f-4e9606ddc6f6"
      },
      "execution_count": null,
      "outputs": [
        {
          "output_type": "execute_result",
          "data": {
            "text/plain": [
              "10.0"
            ]
          },
          "metadata": {},
          "execution_count": 48
        }
      ]
    },
    {
      "cell_type": "code",
      "source": [
        "!pip install lasso"
      ],
      "metadata": {
        "colab": {
          "base_uri": "https://localhost:8080/"
        },
        "id": "WJN8tPmBCQaq",
        "outputId": "c97f5c5f-3832-4f92-aa90-d7c0cdd87af2"
      },
      "execution_count": 3,
      "outputs": [
        {
          "output_type": "stream",
          "name": "stdout",
          "text": [
            "Collecting lasso\n",
            "  Downloading lasso-0.0.5.tar.gz (5.0 kB)\n",
            "Collecting schema<0.4.0,>=0.3.1\n",
            "  Downloading schema-0.3.1.tar.gz (7.6 kB)\n",
            "Collecting delorean>=0.4.4\n",
            "  Downloading Delorean-1.0.0.tar.gz (18 kB)\n",
            "Requirement already satisfied: babel>=2.1.1 in /usr/local/lib/python3.7/dist-packages (from delorean>=0.4.4->lasso) (2.10.1)\n",
            "Requirement already satisfied: humanize>=0.5.1 in /usr/local/lib/python3.7/dist-packages (from delorean>=0.4.4->lasso) (0.5.1)\n",
            "Requirement already satisfied: python-dateutil>=2.4.2 in /usr/local/lib/python3.7/dist-packages (from delorean>=0.4.4->lasso) (2.8.2)\n",
            "Requirement already satisfied: pytz>=2015.7 in /usr/local/lib/python3.7/dist-packages (from delorean>=0.4.4->lasso) (2022.1)\n",
            "Requirement already satisfied: tzlocal>=1.2 in /usr/local/lib/python3.7/dist-packages (from delorean>=0.4.4->lasso) (1.5.1)\n",
            "Requirement already satisfied: six>=1.5 in /usr/local/lib/python3.7/dist-packages (from python-dateutil>=2.4.2->delorean>=0.4.4->lasso) (1.15.0)\n",
            "Building wheels for collected packages: lasso, delorean, schema\n",
            "  Building wheel for lasso (setup.py) ... \u001b[?25l\u001b[?25hdone\n",
            "  Created wheel for lasso: filename=lasso-0.0.5-py3-none-any.whl size=4813 sha256=051bc97f096a73b6f5e5686f018ce41e2fcf02949b0223e38c0d705cecc7a99a\n",
            "  Stored in directory: /root/.cache/pip/wheels/a9/61/c3/205a56dbd39796ab76d37c25928477011850c05b5cfa0bbb4f\n",
            "  Building wheel for delorean (setup.py) ... \u001b[?25l\u001b[?25hdone\n",
            "  Created wheel for delorean: filename=Delorean-1.0.0-py3-none-any.whl size=9599 sha256=dbbc492c177a4b4fa0fd1a15f603abdd05f1fcf5f94906850df69a113d1307d0\n",
            "  Stored in directory: /root/.cache/pip/wheels/2c/74/9f/ee1a620f88655064739468477eed3a3e97b6e0090f87b79db1\n",
            "  Building wheel for schema (setup.py) ... \u001b[?25l\u001b[?25hdone\n",
            "  Created wheel for schema: filename=schema-0.3.1-py3-none-any.whl size=7087 sha256=73a7a86ef09de860d2e779aae8df48e8243244662c2e7931f37d9419a7c5810f\n",
            "  Stored in directory: /root/.cache/pip/wheels/95/19/8c/3e92f744853670e0d1e2d1160aa6d8f68b1ba957efa5595446\n",
            "Successfully built lasso delorean schema\n",
            "Installing collected packages: schema, delorean, lasso\n",
            "Successfully installed delorean-1.0.0 lasso-0.0.5 schema-0.3.1\n"
          ]
        }
      ]
    },
    {
      "cell_type": "code",
      "source": [
        "from sklearn.linear_model import Lasso\n",
        "from sklearn.datasets import fetch_california_housing\n",
        "from sklearn.preprocessing import StandardScaler"
      ],
      "metadata": {
        "id": "Aw4aMyU9B-x6"
      },
      "execution_count": 6,
      "outputs": []
    },
    {
      "cell_type": "code",
      "source": [
        "housing = fetch_california_housing()\n",
        "features = housing.data\n",
        "target=housing.target"
      ],
      "metadata": {
        "id": "DTCdIA-pCAg2"
      },
      "execution_count": 14,
      "outputs": []
    },
    {
      "cell_type": "code",
      "source": [
        "scaler=StandardScaler()\n",
        "features_standardized=scaler.fit_transform(features)"
      ],
      "metadata": {
        "id": "fSGswL16CAZI"
      },
      "execution_count": 15,
      "outputs": []
    },
    {
      "cell_type": "code",
      "source": [
        "regression=Lasso(alpha=0.5)"
      ],
      "metadata": {
        "id": "Bnimd0fzCASp"
      },
      "execution_count": 16,
      "outputs": []
    },
    {
      "cell_type": "code",
      "source": [
        "model=regression.fit(features_standardized,target)\n",
        "model"
      ],
      "metadata": {
        "colab": {
          "base_uri": "https://localhost:8080/"
        },
        "id": "HZlai5-BB-oS",
        "outputId": "7d13d1e6-4459-4d83-e135-edfe5fd5dc87"
      },
      "execution_count": 20,
      "outputs": [
        {
          "output_type": "execute_result",
          "data": {
            "text/plain": [
              "Lasso(alpha=0.5)"
            ]
          },
          "metadata": {},
          "execution_count": 20
        }
      ]
    },
    {
      "cell_type": "code",
      "source": [
        "model.coef_"
      ],
      "metadata": {
        "colab": {
          "base_uri": "https://localhost:8080/"
        },
        "id": "Zza5AZ1aB-f_",
        "outputId": "d329ed5c-412a-49be-fac3-4f031b9233ec"
      },
      "execution_count": 19,
      "outputs": [
        {
          "output_type": "execute_result",
          "data": {
            "text/plain": [
              "array([ 0.29398939,  0.        ,  0.        , -0.        , -0.        ,\n",
              "       -0.        , -0.        , -0.        ])"
            ]
          },
          "metadata": {},
          "execution_count": 19
        }
      ]
    },
    {
      "cell_type": "code",
      "source": [
        ""
      ],
      "metadata": {
        "id": "10v-Dn72B-Vy"
      },
      "execution_count": null,
      "outputs": []
    },
    {
      "cell_type": "code",
      "source": [
        ""
      ],
      "metadata": {
        "id": "s5Kc-0S_B-Hv"
      },
      "execution_count": null,
      "outputs": []
    }
  ]
}